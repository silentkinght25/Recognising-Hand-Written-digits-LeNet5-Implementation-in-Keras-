{
 "cells": [
  {
   "cell_type": "code",
   "execution_count": 1,
   "metadata": {},
   "outputs": [
    {
     "name": "stderr",
     "output_type": "stream",
     "text": [
      "Using TensorFlow backend.\n"
     ]
    }
   ],
   "source": [
    "import numpy as np # linear algebra\n",
    "import pandas as pd # data processing, CSV file I/O (e.g. pd.read_csv)\n",
    "import keras \n",
    "from keras.models import Sequential\n",
    "from keras.layers import Conv2D, Dense, MaxPool2D, Dropout, Flatten\n",
    "from keras.optimizers import Adam\n",
    "from keras.preprocessing.image import ImageDataGenerator\n",
    "from keras.callbacks import ReduceLROnPlateau\n",
    "from keras.utils.np_utils import to_categorical\n",
    "from sklearn.model_selection import train_test_split\n",
    "import matplotlib.pyplot as plt\n",
    "import scipy.misc\n",
    "from matplotlib.pyplot import imshow\n",
    "import cv2"
   ]
  },
  {
   "cell_type": "code",
   "execution_count": 2,
   "metadata": {},
   "outputs": [],
   "source": [
    "#loading train set\n",
    "train = pd.read_csv('mnist_train.csv')\n",
    "X_train = train.iloc[:, 1:]\n",
    "Y_train = train.iloc[:, 0]"
   ]
  },
  {
   "cell_type": "code",
   "execution_count": 3,
   "metadata": {},
   "outputs": [
    {
     "data": {
      "text/plain": [
       "(60000, 784)"
      ]
     },
     "execution_count": 3,
     "metadata": {},
     "output_type": "execute_result"
    }
   ],
   "source": [
    "X_train.shape"
   ]
  },
  {
   "cell_type": "code",
   "execution_count": 4,
   "metadata": {},
   "outputs": [],
   "source": [
    "X_train = np.array(X_train)\n",
    "Y_train = np.array(Y_train)"
   ]
  },
  {
   "cell_type": "code",
   "execution_count": 5,
   "metadata": {},
   "outputs": [],
   "source": [
    "# Normalize inputs\n",
    "X_train = X_train / 255.0"
   ]
  },
  {
   "cell_type": "code",
   "execution_count": 6,
   "metadata": {},
   "outputs": [],
   "source": [
    "def plot_digits(X, Y):\n",
    "    for i in range(20):\n",
    "        plt.subplot(5, 4, i+1)\n",
    "        plt.tight_layout()\n",
    "        plt.imshow(X[i].reshape(28, 28), cmap='gray')\n",
    "        plt.title('Digit:{}'.format(Y[i]))\n",
    "        plt.xticks([])\n",
    "        plt.yticks([])\n",
    "    plt.show()"
   ]
  },
  {
   "cell_type": "code",
   "execution_count": 7,
   "metadata": {},
   "outputs": [
    {
     "data": {
      "image/png": "[encoded data removed]",
      "text/plain": [
       "<Figure size 432x288 with 20 Axes>"
      ]
     },
     "metadata": {},
     "output_type": "display_data"
    }
   ],
   "source": [
    "#plot some of image from train set\n",
    "plot_digits(X_train, Y_train)"
   ]
  },
  {
   "cell_type": "code",
   "execution_count": 8,
   "metadata": {},
   "outputs": [
    {
     "name": "stdout",
     "output_type": "stream",
     "text": [
      "(58200, 784) (58200,) (1800, 784) (1800,) (60000, 784) (60000,)\n"
     ]
    }
   ],
   "source": [
    "#Train-Test Split\n",
    "X_dev, X_val, Y_dev, Y_val = train_test_split(X_train, Y_train, test_size=0.03, shuffle=True, random_state=2019)\n",
    "print(X_dev.shape, Y_dev.shape, X_val.shape, Y_val.shape, X_train.shape, Y_train.shape)\n",
    "T_dev = to_categorical(Y_dev)\n",
    "T_val = to_categorical(Y_val)"
   ]
  },
  {
   "cell_type": "code",
   "execution_count": 9,
   "metadata": {},
   "outputs": [],
   "source": [
    "#Reshape the input \n",
    "X_dev = X_dev.reshape(X_dev.shape[0], 28, 28, 1)\n",
    "X_val = X_val.reshape(X_val.shape[0], 28, 28, 1)"
   ]
  },
  {
   "cell_type": "code",
   "execution_count": 10,
   "metadata": {},
   "outputs": [
    {
     "name": "stdout",
     "output_type": "stream",
     "text": [
      "(58200, 10) (1800, 10)\n"
     ]
    }
   ],
   "source": [
    "print(T_dev.shape, T_val.shape)"
   ]
  },
  {
   "cell_type": "code",
   "execution_count": 11,
   "metadata": {},
   "outputs": [],
   "source": [
    "model = Sequential()\n",
    "    #X = ZeroPadding2D((2,2))(X_input)\n",
    "    \n",
    "model.add(Conv2D(filters=32, kernel_size=(5,5), strides=(1,1), padding='same', activation='relu', \n",
    "                 input_shape=(28, 28, 1), kernel_initializer='glorot_uniform'))\n",
    "model.add(MaxPool2D((2,2), strides=(2,2)))\n",
    "    \n",
    "model.add(Conv2D(filters=48, kernel_size=(5,5), strides=(1,1), padding='valid', activation='relu', kernel_initializer='glorot_uniform'))\n",
    "model.add(MaxPool2D((2,2), strides=(2,2)))\n",
    "    \n",
    "model.add(Flatten())\n",
    "model.add(Dense(120, activation='relu', kernel_initializer='glorot_uniform'))\n",
    "    \n",
    "model.add(Dense(84, activation='relu', kernel_initializer='glorot_uniform'))\n",
    "    \n",
    "model.add(Dense(10, activation='softmax', kernel_initializer='glorot_uniform'))\n",
    "    "
   ]
  },
  {
   "cell_type": "code",
   "execution_count": 12,
   "metadata": {},
   "outputs": [],
   "source": [
    "model.build()"
   ]
  },
  {
   "cell_type": "code",
   "execution_count": 13,
   "metadata": {},
   "outputs": [],
   "source": [
    "#adam = Adam(lr=5e-4)\n",
    "model.compile(optimizer='adam', loss='categorical_crossentropy', metrics=['accuracy'])\n",
    "#model.summary()"
   ]
  },
  {
   "cell_type": "code",
   "execution_count": 14,
   "metadata": {},
   "outputs": [],
   "source": [
    "# Set a learning rate annealer\n",
    "reduce_lr = ReduceLROnPlateau(monitor='val_accuracy', \n",
    "                                patience=3, \n",
    "                                verbose=1, \n",
    "                                factor=0.2, \n",
    "                                min_lr=1e-6)"
   ]
  },
  {
   "cell_type": "code",
   "execution_count": 15,
   "metadata": {},
   "outputs": [],
   "source": [
    "# Data Augmentation\n",
    "datagen = ImageDataGenerator(\n",
    "            rotation_range=10, \n",
    "            width_shift_range=0.1, \n",
    "            height_shift_range=0.1, \n",
    "            zoom_range=0.1)\n",
    "datagen.fit(X_dev)"
   ]
  },
  {
   "cell_type": "code",
   "execution_count": 16,
   "metadata": {},
   "outputs": [
    {
     "name": "stdout",
     "output_type": "stream",
     "text": [
      "Epoch 1/30\n",
      "455/454 [==============================] - 69s 151ms/step - loss: 0.3679 - accuracy: 0.8827 - val_loss: 0.0768 - val_accuracy: 0.9767\n",
      "Epoch 2/30\n",
      "455/454 [==============================] - 65s 143ms/step - loss: 0.1114 - accuracy: 0.9663 - val_loss: 0.0470 - val_accuracy: 0.9844\n",
      "Epoch 3/30\n",
      "455/454 [==============================] - 66s 145ms/step - loss: 0.0811 - accuracy: 0.9749 - val_loss: 0.0326 - val_accuracy: 0.9867\n",
      "Epoch 4/30\n",
      "455/454 [==============================] - 65s 143ms/step - loss: 0.0646 - accuracy: 0.9799 - val_loss: 0.0248 - val_accuracy: 0.9917\n",
      "Epoch 5/30\n",
      "455/454 [==============================] - 67s 147ms/step - loss: 0.0546 - accuracy: 0.9832 - val_loss: 0.0269 - val_accuracy: 0.9889\n",
      "Epoch 6/30\n",
      "455/454 [==============================] - 66s 146ms/step - loss: 0.0516 - accuracy: 0.9845 - val_loss: 0.0265 - val_accuracy: 0.9922\n",
      "Epoch 7/30\n",
      "455/454 [==============================] - 67s 148ms/step - loss: 0.0468 - accuracy: 0.9854 - val_loss: 0.0188 - val_accuracy: 0.9933\n",
      "Epoch 8/30\n",
      "455/454 [==============================] - 67s 148ms/step - loss: 0.0404 - accuracy: 0.9877 - val_loss: 0.0268 - val_accuracy: 0.9906\n",
      "Epoch 9/30\n",
      "455/454 [==============================] - 67s 148ms/step - loss: 0.0393 - accuracy: 0.9872 - val_loss: 0.0195 - val_accuracy: 0.9933\n",
      "Epoch 10/30\n",
      "455/454 [==============================] - 74s 163ms/step - loss: 0.0354 - accuracy: 0.9887 - val_loss: 0.0143 - val_accuracy: 0.9950\n",
      "Epoch 11/30\n",
      "455/454 [==============================] - 72s 159ms/step - loss: 0.0341 - accuracy: 0.9894 - val_loss: 0.0249 - val_accuracy: 0.9928\n",
      "Epoch 12/30\n",
      "455/454 [==============================] - 82s 181ms/step - loss: 0.0322 - accuracy: 0.9900 - val_loss: 0.0169 - val_accuracy: 0.9933\n",
      "Epoch 13/30\n",
      "455/454 [==============================] - 75s 166ms/step - loss: 0.0302 - accuracy: 0.9903 - val_loss: 0.0186 - val_accuracy: 0.9944\n",
      "\n",
      "Epoch 00013: ReduceLROnPlateau reducing learning rate to 0.00020000000949949026.\n",
      "Epoch 14/30\n",
      "455/454 [==============================] - 78s 171ms/step - loss: 0.0212 - accuracy: 0.9933 - val_loss: 0.0132 - val_accuracy: 0.9961\n",
      "Epoch 15/30\n",
      "455/454 [==============================] - 77s 169ms/step - loss: 0.0183 - accuracy: 0.9943 - val_loss: 0.0144 - val_accuracy: 0.9944\n",
      "Epoch 16/30\n",
      "455/454 [==============================] - 72s 159ms/step - loss: 0.0183 - accuracy: 0.9942 - val_loss: 0.0170 - val_accuracy: 0.9944\n",
      "Epoch 17/30\n",
      "455/454 [==============================] - 75s 165ms/step - loss: 0.0175 - accuracy: 0.9946 - val_loss: 0.0128 - val_accuracy: 0.9950\n",
      "\n",
      "Epoch 00017: ReduceLROnPlateau reducing learning rate to 4.0000001899898055e-05.\n",
      "Epoch 18/30\n",
      "455/454 [==============================] - 82s 180ms/step - loss: 0.0142 - accuracy: 0.9955 - val_loss: 0.0121 - val_accuracy: 0.9950\n",
      "Epoch 19/30\n",
      "455/454 [==============================] - 66s 145ms/step - loss: 0.0144 - accuracy: 0.9957 - val_loss: 0.0119 - val_accuracy: 0.9956\n",
      "Epoch 20/30\n",
      "455/454 [==============================] - 65s 142ms/step - loss: 0.0145 - accuracy: 0.9956 - val_loss: 0.0115 - val_accuracy: 0.9961\n",
      "\n",
      "Epoch 00020: ReduceLROnPlateau reducing learning rate to 8.000000525498762e-06.\n",
      "Epoch 21/30\n",
      "455/454 [==============================] - 68s 149ms/step - loss: 0.0141 - accuracy: 0.9953 - val_loss: 0.0114 - val_accuracy: 0.9967\n",
      "Epoch 22/30\n",
      "455/454 [==============================] - 78s 172ms/step - loss: 0.0147 - accuracy: 0.9953 - val_loss: 0.0112 - val_accuracy: 0.9961\n",
      "Epoch 23/30\n",
      "455/454 [==============================] - 69s 151ms/step - loss: 0.0140 - accuracy: 0.9955 - val_loss: 0.0111 - val_accuracy: 0.9961\n",
      "Epoch 24/30\n",
      "455/454 [==============================] - 65s 143ms/step - loss: 0.0145 - accuracy: 0.9957 - val_loss: 0.0110 - val_accuracy: 0.9961\n",
      "\n",
      "Epoch 00024: ReduceLROnPlateau reducing learning rate to 1.6000001778593287e-06.\n",
      "Epoch 25/30\n",
      "455/454 [==============================] - 65s 143ms/step - loss: 0.0153 - accuracy: 0.9952 - val_loss: 0.0110 - val_accuracy: 0.9961\n",
      "Epoch 26/30\n",
      "455/454 [==============================] - 70s 154ms/step - loss: 0.0141 - accuracy: 0.9958 - val_loss: 0.0110 - val_accuracy: 0.9961\n",
      "Epoch 27/30\n",
      "455/454 [==============================] - 67s 146ms/step - loss: 0.0141 - accuracy: 0.9958 - val_loss: 0.0109 - val_accuracy: 0.9961\n",
      "\n",
      "Epoch 00027: ReduceLROnPlateau reducing learning rate to 1e-06.\n",
      "Epoch 28/30\n",
      "455/454 [==============================] - 66s 144ms/step - loss: 0.0142 - accuracy: 0.9959 - val_loss: 0.0110 - val_accuracy: 0.9961\n",
      "Epoch 29/30\n",
      "455/454 [==============================] - 65s 143ms/step - loss: 0.0137 - accuracy: 0.9957 - val_loss: 0.0110 - val_accuracy: 0.9961\n",
      "Epoch 30/30\n",
      "455/454 [==============================] - 69s 153ms/step - loss: 0.0134 - accuracy: 0.9962 - val_loss: 0.0110 - val_accuracy: 0.9961\n"
     ]
    },
    {
     "data": {
      "text/plain": [
       "<keras.callbacks.callbacks.History at 0x18e28e6a308>"
      ]
     },
     "execution_count": 16,
     "metadata": {},
     "output_type": "execute_result"
    }
   ],
   "source": [
    "model.fit_generator(datagen.flow(X_dev, T_dev, batch_size=128), steps_per_epoch=len(X_dev)/128, \n",
    "                    epochs=30, validation_data=(X_val, T_val), callbacks=[reduce_lr])"
   ]
  },
  {
   "cell_type": "code",
   "execution_count": 17,
   "metadata": {},
   "outputs": [
    {
     "name": "stdout",
     "output_type": "stream",
     "text": [
      "1800/1800 [==============================] - 1s 354us/step\n"
     ]
    }
   ],
   "source": [
    "#model.train_on_batch(batchX, batchY)\n",
    "score = model.evaluate(X_val, T_val, batch_size=32)"
   ]
  },
  {
   "cell_type": "code",
   "execution_count": 18,
   "metadata": {},
   "outputs": [
    {
     "name": "stdout",
     "output_type": "stream",
     "text": [
      "Loss = 0.010979928158445142\n",
      "Validation Accuracy = 0.9961110949516296\n"
     ]
    }
   ],
   "source": [
    "print (\"Loss = \" + str(score[0]))\n",
    "print (\"Validation Accuracy = \" + str(score[1]))"
   ]
  },
  {
   "cell_type": "code",
   "execution_count": 19,
   "metadata": {},
   "outputs": [],
   "source": [
    "test = pd.read_csv('mnist_test.csv')\n",
    "X_test = test.iloc[:, 1:]\n",
    "Y_test = test.iloc[:, 0]\n",
    "X_test = np.array(X_test)\n",
    "Y_test = np.array(Y_test)\n",
    "X_test = X_test/255"
   ]
  },
  {
   "cell_type": "code",
   "execution_count": 20,
   "metadata": {},
   "outputs": [
    {
     "name": "stdout",
     "output_type": "stream",
     "text": [
      "10000/10000 [==============================] - 3s 303us/step\n"
     ]
    }
   ],
   "source": [
    "X_test = X_test.reshape((X_test.shape[0], 28, 28, 1))\n",
    "Y_test = pd.get_dummies(Y_test).values\n",
    "test_score = model.evaluate(X_test, Y_test, batch_size=64)"
   ]
  },
  {
   "cell_type": "code",
   "execution_count": 21,
   "metadata": {},
   "outputs": [
    {
     "name": "stdout",
     "output_type": "stream",
     "text": [
      "Loss = 0.013505379426278523\n",
      "Test Accuracy = 0.9959999918937683\n"
     ]
    }
   ],
   "source": [
    "print (\"Loss = \" + str(test_score[0]))\n",
    "print (\"Test Accuracy = \" + str(test_score[1]))"
   ]
  },
  {
   "cell_type": "code",
   "execution_count": 22,
   "metadata": {},
   "outputs": [
    {
     "name": "stdout",
     "output_type": "stream",
     "text": [
      "2\n"
     ]
    },
    {
     "name": "stderr",
     "output_type": "stream",
     "text": [
      "C:\\Users\\Ashwani Singh\\anaconda3\\envs\\tensorflow\\lib\\site-packages\\ipykernel_launcher.py:6: DeprecationWarning: `imread` is deprecated!\n",
      "`imread` is deprecated in SciPy 1.0.0, and will be removed in 1.2.0.\n",
      "Use ``imageio.imread`` instead.\n",
      "  \n"
     ]
    },
    {
     "name": "stdout",
     "output_type": "stream",
     "text": [
      "class prediction vector [p(0), p(1), p(2), p(3), p(4), p(5)] = \n"
     ]
    },
    {
     "data": {
      "text/plain": [
       "array([[0., 0., 1., 0., 0., 0., 0., 0., 0., 0.]], dtype=float32)"
      ]
     },
     "execution_count": 22,
     "metadata": {},
     "output_type": "execute_result"
    },
    {
     "data": {
      "image/png": "[encoded data removed]",
      "text/plain": [
       "<Figure size 432x288 with 1 Axes>"
      ]
     },
     "metadata": {
      "needs_background": "light"
     },
     "output_type": "display_data"
    }
   ],
   "source": [
    "#Check the prediction for your own image\n",
    "img = cv2.imread(\"img2.jpg\",0)\n",
    "img = cv2.resize(img, (28, 28))\n",
    "img = np.reshape(img, [1, 28, 28, 1])\n",
    "print(np.argmax(model.predict(img)))\n",
    "imshow(scipy.misc.imread('img2.jpg'))\n",
    "print(\"class prediction vector [p(0), p(1), p(2), p(3), p(4), p(5)] = \")\n",
    "model.predict_proba(img)\n"
   ]
  },
  {
   "cell_type": "code",
   "execution_count": null,
   "metadata": {},
   "outputs": [],
   "source": []
  }
 ],
 "metadata": {
  "kernelspec": {
   "display_name": "Python 3",
   "language": "python",
   "name": "python3"
  },
  "language_info": {
   "codemirror_mode": {
    "name": "ipython",
    "version": 3
   },
   "file_extension": ".py",
   "mimetype": "text/x-python",
   "name": "python",
   "nbconvert_exporter": "python",
   "pygments_lexer": "ipython3",
   "version": "3.7.7"
  }
 },
 "nbformat": 4,
 "nbformat_minor": 4
}
